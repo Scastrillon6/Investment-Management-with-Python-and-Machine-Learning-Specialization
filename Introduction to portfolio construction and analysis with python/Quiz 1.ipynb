{
 "cells": [
  {
   "cell_type": "markdown",
   "id": "8e1fe0fb-4682-411a-985a-2d46e7967af3",
   "metadata": {},
   "source": [
    "# Quiz 1"
   ]
  },
  {
   "cell_type": "code",
   "execution_count": 1,
   "id": "b1ac82e6-d712-4424-ba76-dd781effd6c6",
   "metadata": {},
   "outputs": [],
   "source": [
    "%load_ext autoreload\n",
    "%autoreload 2"
   ]
  },
  {
   "cell_type": "code",
   "execution_count": 2,
   "id": "987b3341-8ff0-4ad3-9a1e-bd2b19966545",
   "metadata": {},
   "outputs": [],
   "source": [
    "import pandas as pd\n",
    "import numpy as np\n",
    "import edhec_toolbox as tb"
   ]
  },
  {
   "cell_type": "code",
   "execution_count": 3,
   "id": "9a8d88d8-fc37-48e7-b92c-98124d9bb6fc",
   "metadata": {},
   "outputs": [],
   "source": [
    "df_data = pd.read_csv(\"data/Portfolios_Formed_on_ME_monthly_EW.csv\",\n",
    "                       header=0, index_col=0, na_values=-99.99)\n",
    "df_returns = df_data[['Lo 20', 'Hi 20']]\n",
    "df_returns.columns = ['SmallCap', 'LargeCap']\n",
    "df_returns = df_returns/100\n",
    "df_returns.index = pd.to_datetime(df_returns.index, format=\"%Y%m\").to_period('M')"
   ]
  },
  {
   "cell_type": "code",
   "execution_count": 4,
   "id": "c443ada3-1edd-44e0-a6a0-10431f828d7b",
   "metadata": {},
   "outputs": [
    {
     "data": {
      "text/html": [
       "<div>\n",
       "<style scoped>\n",
       "    .dataframe tbody tr th:only-of-type {\n",
       "        vertical-align: middle;\n",
       "    }\n",
       "\n",
       "    .dataframe tbody tr th {\n",
       "        vertical-align: top;\n",
       "    }\n",
       "\n",
       "    .dataframe thead th {\n",
       "        text-align: right;\n",
       "    }\n",
       "</style>\n",
       "<table border=\"1\" class=\"dataframe\">\n",
       "  <thead>\n",
       "    <tr style=\"text-align: right;\">\n",
       "      <th></th>\n",
       "      <th>SmallCap</th>\n",
       "      <th>LargeCap</th>\n",
       "    </tr>\n",
       "  </thead>\n",
       "  <tbody>\n",
       "    <tr>\n",
       "      <th>1926-07</th>\n",
       "      <td>-0.0057</td>\n",
       "      <td>0.0333</td>\n",
       "    </tr>\n",
       "    <tr>\n",
       "      <th>1926-08</th>\n",
       "      <td>0.0384</td>\n",
       "      <td>0.0233</td>\n",
       "    </tr>\n",
       "    <tr>\n",
       "      <th>1926-09</th>\n",
       "      <td>-0.0048</td>\n",
       "      <td>-0.0009</td>\n",
       "    </tr>\n",
       "    <tr>\n",
       "      <th>1926-10</th>\n",
       "      <td>-0.0329</td>\n",
       "      <td>-0.0295</td>\n",
       "    </tr>\n",
       "    <tr>\n",
       "      <th>1926-11</th>\n",
       "      <td>-0.0055</td>\n",
       "      <td>0.0316</td>\n",
       "    </tr>\n",
       "  </tbody>\n",
       "</table>\n",
       "</div>"
      ],
      "text/plain": [
       "         SmallCap  LargeCap\n",
       "1926-07   -0.0057    0.0333\n",
       "1926-08    0.0384    0.0233\n",
       "1926-09   -0.0048   -0.0009\n",
       "1926-10   -0.0329   -0.0295\n",
       "1926-11   -0.0055    0.0316"
      ]
     },
     "execution_count": 4,
     "metadata": {},
     "output_type": "execute_result"
    }
   ],
   "source": [
    "df_returns.head()"
   ]
  },
  {
   "cell_type": "code",
   "execution_count": 5,
   "id": "7c0d366a-d070-4076-b4f2-919e3ca7ef58",
   "metadata": {},
   "outputs": [
    {
     "data": {
      "text/plain": [
       "SmallCap    0.151977\n",
       "LargeCap    0.098490\n",
       "dtype: float64"
      ]
     },
     "execution_count": 5,
     "metadata": {},
     "output_type": "execute_result"
    }
   ],
   "source": [
    "# Get annualized returns\n",
    "returns_annualized = (((1 + df_returns).prod())**(12/df_returns.shape[0])) - 1\n",
    "returns_annualized"
   ]
  },
  {
   "cell_type": "code",
   "execution_count": 6,
   "id": "d1e0b1c8-3b89-41f8-877d-376ef7430ae0",
   "metadata": {},
   "outputs": [
    {
     "data": {
      "text/plain": [
       "SmallCap    0.336701\n",
       "LargeCap    0.195116\n",
       "dtype: float64"
      ]
     },
     "execution_count": 6,
     "metadata": {},
     "output_type": "execute_result"
    }
   ],
   "source": [
    "# Get annualized volatility\n",
    "vol_annualized = df_returns.std()*np.sqrt(12)\n",
    "vol_annualized"
   ]
  },
  {
   "cell_type": "code",
   "execution_count": 7,
   "id": "7930acad-ef22-4b66-bcec-4d2d150751c4",
   "metadata": {},
   "outputs": [
    {
     "data": {
      "text/plain": [
       "SmallCap    0.114426\n",
       "LargeCap    0.062865\n",
       "dtype: float64"
      ]
     },
     "execution_count": 7,
     "metadata": {},
     "output_type": "execute_result"
    }
   ],
   "source": [
    "# Annualized returns from 1999 to 2015\n",
    "_df = df_returns['1999':'2015']\n",
    "(((1 + _df).prod())**(12/_df.shape[0])) - 1"
   ]
  },
  {
   "cell_type": "code",
   "execution_count": 8,
   "id": "0df33c09-a005-4f12-94d9-97a6921caafd",
   "metadata": {},
   "outputs": [
    {
     "data": {
      "text/plain": [
       "SmallCap    0.228894\n",
       "LargeCap    0.172713\n",
       "dtype: float64"
      ]
     },
     "execution_count": 8,
     "metadata": {},
     "output_type": "execute_result"
    }
   ],
   "source": [
    "# Annualized volatility from 1999 to 2015\n",
    "_df.std()*np.sqrt(12)"
   ]
  },
  {
   "cell_type": "markdown",
   "id": "a3b5cdeb-3436-4068-ac43-fe52d2becc8b",
   "metadata": {},
   "source": [
    "## Drawdown for period 1999 to 2015"
   ]
  },
  {
   "cell_type": "markdown",
   "id": "1cfe5786-3ebd-4e72-90ed-9cc6d62786f7",
   "metadata": {},
   "source": [
    "### Small Caps"
   ]
  },
  {
   "cell_type": "code",
   "execution_count": 13,
   "id": "13ca5b93-dfaa-49c5-8394-3c7698a2072c",
   "metadata": {},
   "outputs": [],
   "source": [
    "df_drawdown_scap = tb.drawdown(_df['SmallCap'])"
   ]
  },
  {
   "cell_type": "code",
   "execution_count": 17,
   "id": "4a719965-3c5b-4cd3-8e97-bdbf488a51db",
   "metadata": {},
   "outputs": [
    {
     "data": {
      "text/plain": [
       "<AxesSubplot:>"
      ]
     },
     "execution_count": 17,
     "metadata": {},
     "output_type": "execute_result"
    },
    {
     "data": {
      "image/png": "[encoded data removed]",
      "text/plain": [
       "<Figure size 432x288 with 1 Axes>"
      ]
     },
     "metadata": {
      "needs_background": "light"
     },
     "output_type": "display_data"
    }
   ],
   "source": [
    "df_drawdown_scap[['Wealth', 'Previous Peak']].plot()"
   ]
  },
  {
   "cell_type": "code",
   "execution_count": 21,
   "id": "878d84e0-c68e-4457-9393-dfe79ff18d69",
   "metadata": {},
   "outputs": [
    {
     "data": {
      "text/plain": [
       "-0.6248092431236988"
      ]
     },
     "execution_count": 21,
     "metadata": {},
     "output_type": "execute_result"
    }
   ],
   "source": [
    "df_drawdown_scap['Drawdown'].min()"
   ]
  },
  {
   "cell_type": "code",
   "execution_count": 22,
   "id": "d6bbde6e-4e6a-4e9e-8ad3-4761abfc017e",
   "metadata": {},
   "outputs": [
    {
     "data": {
      "text/plain": [
       "Period('2009-02', 'M')"
      ]
     },
     "execution_count": 22,
     "metadata": {},
     "output_type": "execute_result"
    }
   ],
   "source": [
    "# Get period of max drawdown\n",
    "df_drawdown_scap['Drawdown'].idxmin()"
   ]
  },
  {
   "cell_type": "markdown",
   "id": "c296573d-6647-47bd-ae77-43cfb45fb8c3",
   "metadata": {},
   "source": [
    "### Large Caps"
   ]
  },
  {
   "cell_type": "code",
   "execution_count": 23,
   "id": "97601652-7b44-472f-b898-6002bc198fbb",
   "metadata": {},
   "outputs": [],
   "source": [
    "df_drawdown_lcap = tb.drawdown(_df['LargeCap'])"
   ]
  },
  {
   "cell_type": "code",
   "execution_count": 24,
   "id": "11a2f377-ceea-416a-9885-6565d718f608",
   "metadata": {},
   "outputs": [
    {
     "data": {
      "text/plain": [
       "<AxesSubplot:>"
      ]
     },
     "execution_count": 24,
     "metadata": {},
     "output_type": "execute_result"
    },
    {
     "data": {
      "image/png": "[encoded data removed]",
      "text/plain": [
       "<Figure size 432x288 with 1 Axes>"
      ]
     },
     "metadata": {
      "needs_background": "light"
     },
     "output_type": "display_data"
    }
   ],
   "source": [
    "df_drawdown_lcap[['Wealth', 'Previous Peak']].plot()"
   ]
  },
  {
   "cell_type": "code",
   "execution_count": 25,
   "id": "998a45fd-b07d-4239-b4ef-d39a6b68d3ce",
   "metadata": {},
   "outputs": [
    {
     "data": {
      "text/plain": [
       "-0.5527349978713653"
      ]
     },
     "execution_count": 25,
     "metadata": {},
     "output_type": "execute_result"
    }
   ],
   "source": [
    "df_drawdown_lcap['Drawdown'].min()"
   ]
  },
  {
   "cell_type": "code",
   "execution_count": 26,
   "id": "72ce0590-4461-4250-9261-aa1ddb1d0b95",
   "metadata": {},
   "outputs": [
    {
     "data": {
      "text/plain": [
       "Period('2009-02', 'M')"
      ]
     },
     "execution_count": 26,
     "metadata": {},
     "output_type": "execute_result"
    }
   ],
   "source": [
    "# Get period of max drawdown\n",
    "df_drawdown_lcap['Drawdown'].idxmin()"
   ]
  },
  {
   "cell_type": "markdown",
   "id": "c09d6193-4625-4822-803d-ef2ab330177c",
   "metadata": {},
   "source": [
    "## Semi std"
   ]
  },
  {
   "cell_type": "code",
   "execution_count": 33,
   "id": "2e2adfc7-a2f2-42ae-b223-fab65a85a410",
   "metadata": {},
   "outputs": [],
   "source": [
    "df_hfi = pd.read_csv(\"data/edhec-hedgefundindices.csv\",\n",
    "                      header=0, index_col=0, parse_dates=True)\n",
    "df_hfi = df_hfi/100\n",
    "df_hfi.index = df_hfi.index.to_period('M')"
   ]
  },
  {
   "cell_type": "code",
   "execution_count": 35,
   "id": "0107e53e-620b-4e10-93de-8828501dd0a7",
   "metadata": {},
   "outputs": [
    {
     "data": {
      "text/plain": [
       "Fixed Income Arbitrage    0.003321\n",
       "Merger Arbitrage          0.003611\n",
       "Global Macro              0.005075\n",
       "Equity Market Neutral     0.005186\n",
       "Relative Value            0.005711\n",
       "Convertible Arbitrage     0.006681\n",
       "Funds Of Funds            0.007948\n",
       "Distressed Securities     0.009498\n",
       "Event Driven              0.010135\n",
       "CTA Global                0.010996\n",
       "Long/Short Equity         0.012139\n",
       "Emerging Markets          0.015276\n",
       "Short Selling             0.021240\n",
       "dtype: float64"
      ]
     },
     "execution_count": 35,
     "metadata": {},
     "output_type": "execute_result"
    }
   ],
   "source": [
    "df_hfi[\"2009\":][hfi<0].std(ddof=0).sort_values()"
   ]
  },
  {
   "cell_type": "markdown",
   "id": "0decaf0c-a344-4c6d-b38f-cf5455e99187",
   "metadata": {},
   "source": [
    "## Skewness"
   ]
  },
  {
   "cell_type": "code",
   "execution_count": 37,
   "id": "ab8278a7-6c27-48f0-9882-dcc18e04823f",
   "metadata": {},
   "outputs": [
    {
     "data": {
      "text/plain": [
       "Equity Market Neutral    -0.896327\n",
       "Funds Of Funds           -0.646908\n",
       "Merger Arbitrage         -0.551065\n",
       "Event Driven             -0.488821\n",
       "Long/Short Equity        -0.463703\n",
       "Distressed Securities    -0.254944\n",
       "Emerging Markets          0.033123\n",
       "CTA Global                0.052062\n",
       "Relative Value            0.159953\n",
       "Global Macro              0.348184\n",
       "Short Selling             0.456518\n",
       "Fixed Income Arbitrage    1.121453\n",
       "Convertible Arbitrage     1.305911\n",
       "dtype: float64"
      ]
     },
     "execution_count": 37,
     "metadata": {},
     "output_type": "execute_result"
    }
   ],
   "source": [
    "tb.skewness(df_hfi[\"2009\":]).sort_values()"
   ]
  },
  {
   "cell_type": "markdown",
   "id": "e14a5bef-4c85-4f84-ad63-6d2e79bf160e",
   "metadata": {},
   "source": [
    "## Kurtosis"
   ]
  },
  {
   "cell_type": "code",
   "execution_count": 41,
   "id": "0c8d1698-e774-4d06-8630-b72e00aa5349",
   "metadata": {},
   "outputs": [
    {
     "data": {
      "text/plain": [
       "CTA Global                 2.845022\n",
       "Global Macro               3.653278\n",
       "Short Selling              4.352758\n",
       "Long/Short Equity          4.472589\n",
       "Merger Arbitrage           4.520785\n",
       "Event Driven               5.543444\n",
       "Emerging Markets           5.941289\n",
       "Distressed Securities      6.231720\n",
       "Funds Of Funds             7.584725\n",
       "Relative Value            12.731096\n",
       "Equity Market Neutral     20.329621\n",
       "Convertible Arbitrage     23.001449\n",
       "Fixed Income Arbitrage    33.378729\n",
       "dtype: float64"
      ]
     },
     "execution_count": 41,
     "metadata": {},
     "output_type": "execute_result"
    }
   ],
   "source": [
    "tb.kurtosis(df_hfi[\"2000\":]).sort_values()"
   ]
  },
  {
   "cell_type": "code",
   "execution_count": null,
   "id": "0c291546-b2d9-42f4-b6bb-44ab0edebc3a",
   "metadata": {},
   "outputs": [],
   "source": []
  }
 ],
 "metadata": {
  "kernelspec": {
   "display_name": "Python 3",
   "language": "python",
   "name": "python3"
  },
  "language_info": {
   "codemirror_mode": {
    "name": "ipython",
    "version": 3
   },
   "file_extension": ".py",
   "mimetype": "text/x-python",
   "name": "python",
   "nbconvert_exporter": "python",
   "pygments_lexer": "ipython3",
   "version": "3.6.13"
  }
 },
 "nbformat": 4,
 "nbformat_minor": 5
}
